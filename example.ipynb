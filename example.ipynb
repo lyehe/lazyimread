{
 "cells": [
  {
   "cell_type": "code",
   "execution_count": 3,
   "metadata": {},
   "outputs": [],
   "source": [
    "import os\n",
    "import sys\n",
    "from pathlib import Path\n",
    "\n",
    "# Add the src directory to the Python path\n",
    "notebook_path = os.getcwd()\n",
    "src_path = os.path.abspath(os.path.join(notebook_path, \"..\", \"src\"))\n",
    "sys.path.append(src_path)\n",
    "\n",
    "# Import from src directly\n",
    "from src.lazyimread.lazyimread import imread, imset\n",
    "from tests.dummy_data_generator import generate_test_data\n",
    "\n",
    "# Generate test data\n",
    "output_dir = Path(\"test_data\")\n",
    "generate_test_data(output_dir)\n",
    "\n",
    "# Remember to remove the generated test data after use"
   ]
  },
  {
   "cell_type": "code",
   "execution_count": 2,
   "metadata": {},
   "outputs": [
    {
     "name": "stdout",
     "output_type": "stream",
     "text": [
      "2D TIFF shape: (128, 128), order: XY\n"
     ]
    }
   ],
   "source": [
    "# 2D TIFF file\n",
    "file_path = output_dir / \"test_2d_XY_128x128.tiff\"\n",
    "data, dim_order, metadata = imread(file_path)\n",
    "print(f\"2D TIFF shape: {data.shape}, order: {dim_order}\")"
   ]
  },
  {
   "cell_type": "code",
   "execution_count": 3,
   "metadata": {},
   "outputs": [
    {
     "name": "stdout",
     "output_type": "stream",
     "text": [
      "3D HDF5 shape: (50, 128, 128), order: TXY\n"
     ]
    }
   ],
   "source": [
    "# 3D HDF5 file\n",
    "file_path = output_dir / \"test_3d_TXY_50x128x128.h5\"\n",
    "data, dim_order, metadata = imread(file_path)\n",
    "print(f\"3D HDF5 shape: {data.shape}, order: {dim_order}\")\n"
   ]
  },
  {
   "cell_type": "code",
   "execution_count": 4,
   "metadata": {},
   "outputs": [
    {
     "name": "stdout",
     "output_type": "stream",
     "text": [
      "4D TXYC Zarr shape: (50, 128, 128, 3), order: TXYC\n"
     ]
    }
   ],
   "source": [
    "# 4D TXYC Zarr\n",
    "file_path = output_dir / \"test_4d_TXYC_50x128x128x3.zarr\"\n",
    "data, dim_order, metadata = imread(file_path)\n",
    "print(f\"4D TXYC Zarr shape: {data.shape}, order: {dim_order}\")"
   ]
  },
  {
   "cell_type": "code",
   "execution_count": 5,
   "metadata": {},
   "outputs": [
    {
     "name": "stdout",
     "output_type": "stream",
     "text": [
      "Image folder shape: (50, 128, 128, 3), order: TXYC\n"
     ]
    }
   ],
   "source": [
    "# Load an image folder\n",
    "folder_path = output_dir / \"test_3d_TXY_50x128x128_folder\"\n",
    "data, dim_order, metadata = imread(folder_path)\n",
    "print(f\"Image folder shape: {data.shape}, order: {dim_order}\")"
   ]
  },
  {
   "cell_type": "code",
   "execution_count": 6,
   "metadata": {},
   "outputs": [
    {
     "name": "stdout",
     "output_type": "stream",
     "text": [
      "Video shape: (50, 128, 128, 3), order: TXYC\n"
     ]
    }
   ],
   "source": [
    "# Load a video file\n",
    "video_path = output_dir / \"test_4d_TXYC_50x128x128x3.avi\"\n",
    "data, dim_order, metadata = imread(video_path)\n",
    "print(f\"Video shape: {data.shape}, order: {dim_order}\")\n"
   ]
  },
  {
   "cell_type": "code",
   "execution_count": 7,
   "metadata": {},
   "outputs": [
    {
     "name": "stdout",
     "output_type": "stream",
     "text": [
      "Partial data shape: (20, 80, 80, 2), order: TXYC\n"
     ]
    }
   ],
   "source": [
    "# Load a partial dataset from a 4D tiff\n",
    "file_path = output_dir / \"test_4d_TXYC_50x128x128x3.tiff\"\n",
    "options = imset(t_range=(10, 30), y_range=(20, 100), x_range=(20, 100), c_range=(0, 2))\n",
    "data, dim_order, metadata = imread(file_path, options)\n",
    "print(f\"Partial data shape: {data.shape}, order: {dim_order}\")"
   ]
  },
  {
   "cell_type": "code",
   "execution_count": 8,
   "metadata": {},
   "outputs": [
    {
     "name": "stdout",
     "output_type": "stream",
     "text": [
      "HDF5 dataset shape: (50, 50, 128, 128, 3), order: TZXYC\n"
     ]
    }
   ],
   "source": [
    "# Loading a specific dataset from a multi-dataset HDF5 file\n",
    "hdf5_path = output_dir / \"multi_dataset.h5\"\n",
    "options = imset(group=\"group1\", dataset=\"dataset4\")\n",
    "data, dim_order, metadata = imread(hdf5_path, options)\n",
    "print(f\"HDF5 dataset shape: {data.shape}, order: {dim_order}\")"
   ]
  },
  {
   "cell_type": "code",
   "execution_count": 9,
   "metadata": {},
   "outputs": [
    {
     "name": "stdout",
     "output_type": "stream",
     "text": [
      "Zarr group shape: (50, 50, 128, 128, 3), order: TZXYC\n"
     ]
    }
   ],
   "source": [
    "# Loading a specific group from a multi-group Zarr file\n",
    "zarr_path = output_dir / \"multi_dataset.zarr\"\n",
    "options = imset(group=\"group2\", dataset=\"dataset6\")\n",
    "data, dim_order, metadata = imread(zarr_path, options)\n",
    "print(f\"Zarr group shape: {data.shape}, order: {dim_order}\")"
   ]
  },
  {
   "cell_type": "code",
   "execution_count": 10,
   "metadata": {},
   "outputs": [
    {
     "name": "stdout",
     "output_type": "stream",
     "text": [
      "Video range shape: (20, 100, 100, 3), order: TXYC\n"
     ]
    }
   ],
   "source": [
    "# Loading a specific range of frames from a video file\n",
    "video_path = output_dir / \"test_4d_TXYC_50x128x128x3.avi\"\n",
    "options = imset(t_range=(5, 25), y_range=(10, 110), x_range=(10, 110))\n",
    "data, dim_order, metadata = imread(video_path, options)\n",
    "print(f\"Video range shape: {data.shape}, order: {dim_order}\")"
   ]
  },
  {
   "cell_type": "code",
   "execution_count": 11,
   "metadata": {},
   "outputs": [
    {
     "name": "stdout",
     "output_type": "stream",
     "text": [
      "5D subset shape: (10, 6, 100, 100, 2), order: TZXYC\n"
     ]
    }
   ],
   "source": [
    "# Loading a subset of a 5D dataset with multiple range specifications\n",
    "file_path = output_dir / \"test_5d_TZCYX_50x50x128x128x3.tiff\"\n",
    "options = imset(\n",
    "    t_range=(5, 15),\n",
    "    z_range=(2, 8),\n",
    "    y_range=(10, 110),\n",
    "    x_range=(10, 110),\n",
    "    c_range=(0, 2)\n",
    ")\n",
    "data, dim_order, metadata = imread(file_path, options)\n",
    "print(f\"5D subset shape: {data.shape}, order: {dim_order}\")"
   ]
  },
  {
   "cell_type": "code",
   "execution_count": 12,
   "metadata": {},
   "outputs": [
    {
     "name": "stdout",
     "output_type": "stream",
     "text": [
      "Rearranged 4D shape: (3, 50, 128, 128), order: CTXY\n"
     ]
    }
   ],
   "source": [
    "# Loading and rearranging dimensions of a 4D dataset\n",
    "file_path = output_dir / \"test_4d_TXYC_50x128x128x3.tiff\"\n",
    "options = imset(target_order=\"CTXY\")\n",
    "data, dim_order, metadata = imread(file_path, options)\n",
    "print(f\"Rearranged 4D shape: {data.shape}, order: {dim_order}\")"
   ]
  },
  {
   "cell_type": "code",
   "execution_count": 2,
   "metadata": {},
   "outputs": [
    {
     "ename": "NameError",
     "evalue": "name 'output_dir' is not defined",
     "output_type": "error",
     "traceback": [
      "\u001b[1;31m---------------------------------------------------------------------------\u001b[0m",
      "\u001b[1;31mNameError\u001b[0m                                 Traceback (most recent call last)",
      "Cell \u001b[1;32mIn[2], line 2\u001b[0m\n\u001b[0;32m      1\u001b[0m \u001b[38;5;66;03m# Loading a specific range of frames from a video file\u001b[39;00m\n\u001b[1;32m----> 2\u001b[0m video_path \u001b[38;5;241m=\u001b[39m \u001b[43moutput_dir\u001b[49m \u001b[38;5;241m/\u001b[39m \u001b[38;5;124m\"\u001b[39m\u001b[38;5;124mtest_4d_TXYC_50x128x128x3.avi\u001b[39m\u001b[38;5;124m\"\u001b[39m\n\u001b[0;32m      3\u001b[0m options \u001b[38;5;241m=\u001b[39m imset(t_range\u001b[38;5;241m=\u001b[39m(\u001b[38;5;241m10\u001b[39m, \u001b[38;5;241m30\u001b[39m))  \u001b[38;5;66;03m# Load frames 10 to 29\u001b[39;00m\n\u001b[0;32m      4\u001b[0m data, dim_order, metadata \u001b[38;5;241m=\u001b[39m imread(video_path, options)\n",
      "\u001b[1;31mNameError\u001b[0m: name 'output_dir' is not defined"
     ]
    }
   ],
   "source": [
    "# Loading a specific range of frames from a video file\n",
    "video_path = output_dir / \"test_4d_TXYC_50x128x128x3.avi\"\n",
    "options = imset(t_range=(10, 30))  # Load frames 10 to 29\n",
    "data, dim_order, metadata = imread(video_path, options)\n",
    "print(f\"Video range shape: {data.shape}, order: {dim_order}\")"
   ]
  },
  {
   "cell_type": "code",
   "execution_count": 1,
   "metadata": {},
   "outputs": [
    {
     "name": "stdout",
     "output_type": "stream",
     "text": [
      "GUI loaded data shape: (50, 50, 128, 128), order: TZXY\n"
     ]
    }
   ],
   "source": [
    "# Test GUI loading\n",
    "from src.lazyimread.gui_utils import gload, gdirload\n",
    "\n",
    "data, dim_order, metadata = gload() # A gui should pop up here to select a file\n",
    "print(f\"GUI loaded data shape: {data.shape}, order: {dim_order}\")\n"
   ]
  },
  {
   "cell_type": "code",
   "execution_count": 2,
   "metadata": {},
   "outputs": [
    {
     "name": "stdout",
     "output_type": "stream",
     "text": [
      "GUI loaded data shape: (50, 128, 128, 3), order: TXYC\n"
     ]
    }
   ],
   "source": [
    "data, dim_order, metadata = gdirload() # A gui should pop up here to select a folder\n",
    "print(f\"GUI loaded data shape: {data.shape}, order: {dim_order}\")"
   ]
  }
 ],
 "metadata": {
  "kernelspec": {
   "display_name": "shotsampler",
   "language": "python",
   "name": "python3"
  },
  "language_info": {
   "codemirror_mode": {
    "name": "ipython",
    "version": 3
   },
   "file_extension": ".py",
   "mimetype": "text/x-python",
   "name": "python",
   "nbconvert_exporter": "python",
   "pygments_lexer": "ipython3",
   "version": "3.10.15"
  }
 },
 "nbformat": 4,
 "nbformat_minor": 2
}
