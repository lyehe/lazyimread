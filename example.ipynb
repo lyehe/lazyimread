{
 "cells": [
  {
   "cell_type": "code",
   "execution_count": null,
   "metadata": {},
   "outputs": [],
   "source": [
    "# install the package\n",
    "! pip install lazyimread"
   ]
  },
  {
   "cell_type": "code",
   "execution_count": null,
   "metadata": {},
   "outputs": [],
   "source": [
    "# Importing necessary modules\n",
    "from pathlib import Path\n",
    "from lazyimread import load, imread, imset, generate_test_data\n",
    "\n",
    "# Generate test data\n",
    "output_dir = Path(\"test_data\")\n",
    "generate_test_data(output_dir) \n",
    "# Test data are large, remember to remove to clear space"
   ]
  },
  {
   "cell_type": "code",
   "execution_count": null,
   "metadata": {},
   "outputs": [],
   "source": [
    "# 2D TIFF file\n",
    "file_path = output_dir / \"test_2d_XY_128x128.tiff\"\n",
    "data = imread(file_path)\n",
    "print(f\"2D TIFF shape: {data.shape}\")"
   ]
  },
  {
   "cell_type": "code",
   "execution_count": null,
   "metadata": {},
   "outputs": [],
   "source": [
    "# 3D HDF5 file\n",
    "file_path = output_dir / \"test_3d_TXY_50x128x128.h5\"\n",
    "data, dim_order, metadata = load(file_path)\n",
    "print(f\"3D HDF5 shape: {data.shape}, order: {dim_order}\")\n"
   ]
  },
  {
   "cell_type": "code",
   "execution_count": null,
   "metadata": {},
   "outputs": [],
   "source": [
    "# 4D TXYC Zarr\n",
    "file_path = output_dir / \"test_4d_TXYC_50x128x128x3.zarr\"\n",
    "data, dim_order, metadata = load(file_path)\n",
    "print(f\"4D TXYC Zarr shape: {data.shape}, order: {dim_order}\")"
   ]
  },
  {
   "cell_type": "code",
   "execution_count": null,
   "metadata": {},
   "outputs": [],
   "source": [
    "# Load an image folder\n",
    "folder_path = output_dir / \"test_3d_TXY_50x128x128_folder\"\n",
    "data, dim_order, metadata = load(folder_path)\n",
    "print(f\"Image folder shape: {data.shape}, order: {dim_order}\")"
   ]
  },
  {
   "cell_type": "code",
   "execution_count": null,
   "metadata": {},
   "outputs": [],
   "source": [
    "# Load a video file\n",
    "video_path = output_dir / \"test_4d_TXYC_50x128x128x3.avi\"\n",
    "data, dim_order, metadata = load(video_path)\n",
    "print(f\"Video shape: {data.shape}, order: {dim_order}\")\n"
   ]
  },
  {
   "cell_type": "code",
   "execution_count": null,
   "metadata": {},
   "outputs": [],
   "source": [
    "# Load a partial dataset from a 4D tiff\n",
    "file_path = output_dir / \"test_4d_TXYC_50x128x128x3.tiff\"\n",
    "options = imset(t_range=(10, 30), y_range=(20, 100), x_range=(20, 100), c_range=(0, 2))\n",
    "data, dim_order, metadata = load(file_path, options)\n",
    "print(f\"Partial data shape: {data.shape}, order: {dim_order}\")"
   ]
  },
  {
   "cell_type": "code",
   "execution_count": null,
   "metadata": {},
   "outputs": [],
   "source": [
    "# Loading a specific dataset from a multi-dataset HDF5 file\n",
    "hdf5_path = output_dir / \"multi_dataset.h5\"\n",
    "options = imset(group=\"group1\", dataset=\"dataset4\")\n",
    "data, dim_order, metadata = load(hdf5_path, options)\n",
    "print(f\"HDF5 dataset shape: {data.shape}, order: {dim_order}\")"
   ]
  },
  {
   "cell_type": "code",
   "execution_count": null,
   "metadata": {},
   "outputs": [],
   "source": [
    "# Loading a specific group from a multi-group Zarr file\n",
    "zarr_path = output_dir / \"multi_dataset.zarr\"\n",
    "options = imset(group=\"group2\", dataset=\"dataset6\")\n",
    "data, dim_order, metadata = load(zarr_path, options)\n",
    "print(f\"Zarr group shape: {data.shape}, order: {dim_order}\")"
   ]
  },
  {
   "cell_type": "code",
   "execution_count": null,
   "metadata": {},
   "outputs": [],
   "source": [
    "# Loading a specific range of frames from a video file\n",
    "video_path = output_dir / \"test_4d_TXYC_50x128x128x3.avi\"\n",
    "options = imset(t_range=(5, 25), y_range=(10, 110), x_range=(10, 110))\n",
    "data, dim_order, metadata = load(video_path, options)\n",
    "print(f\"Video range shape: {data.shape}, order: {dim_order}\")"
   ]
  },
  {
   "cell_type": "code",
   "execution_count": null,
   "metadata": {},
   "outputs": [],
   "source": [
    "# Loading a subset of a 5D dataset with multiple range specifications\n",
    "file_path = output_dir / \"test_5d_TZCYX_50x50x128x128x3.tiff\"\n",
    "options = imset(\n",
    "    t_range=(5, 15),\n",
    "    z_range=(2, 8),\n",
    "    y_range=(10, 110),\n",
    "    x_range=(10, 110),\n",
    "    c_range=(0, 2)\n",
    ")\n",
    "data, dim_order, metadata = load(file_path, options)\n",
    "print(f\"5D subset shape: {data.shape}, order: {dim_order}\")"
   ]
  },
  {
   "cell_type": "code",
   "execution_count": null,
   "metadata": {},
   "outputs": [],
   "source": [
    "# Loading and rearranging dimensions of a 4D dataset\n",
    "file_path = output_dir / \"test_4d_TXYC_50x128x128x3.tiff\"\n",
    "options = imset(target_order=\"CTXY\")\n",
    "data, dim_order, metadata = load(file_path, options)\n",
    "print(f\"Rearranged 4D shape: {data.shape}, order: {dim_order}\")"
   ]
  },
  {
   "cell_type": "code",
   "execution_count": null,
   "metadata": {},
   "outputs": [],
   "source": [
    "# Loading a specific range of frames from a video file\n",
    "video_path = output_dir / \"test_4d_TXYC_50x128x128x3.avi\"\n",
    "options = imset(t_range=(10, 30))  # Load frames 10 to 29\n",
    "data, dim_order, metadata = load(video_path, options)\n",
    "print(f\"Video range shape: {data.shape}, order: {dim_order}\")"
   ]
  },
  {
   "cell_type": "code",
   "execution_count": null,
   "metadata": {},
   "outputs": [],
   "source": [
    "# Test GUI loading\n",
    "### WARNING: This will not work in a Colab environment\n",
    "\n",
    "from lazyimread import gload, gdirload\n",
    "\n",
    "data = gload() # A gui should pop up here to select a file\n",
    "print(f\"GUI loaded data shape: {data.shape}\")\n"
   ]
  },
  {
   "cell_type": "code",
   "execution_count": null,
   "metadata": {},
   "outputs": [],
   "source": [
    "data = gdirload() # A gui should pop up here to select a folder\n",
    "print(f\"GUI loaded data shape: {data.shape}\")"
   ]
  }
 ],
 "metadata": {
  "kernelspec": {
   "display_name": "shotsampler",
   "language": "python",
   "name": "python3"
  },
  "language_info": {
   "codemirror_mode": {
    "name": "ipython",
    "version": 3
   },
   "file_extension": ".py",
   "mimetype": "text/x-python",
   "name": "python",
   "nbconvert_exporter": "python",
   "pygments_lexer": "ipython3",
   "version": "3.10.15"
  }
 },
 "nbformat": 4,
 "nbformat_minor": 2
}
